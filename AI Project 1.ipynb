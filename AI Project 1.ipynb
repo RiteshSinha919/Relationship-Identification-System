{
 "cells": [
  {
   "cell_type": "code",
   "execution_count": null,
   "metadata": {},
   "outputs": [],
   "source": [
    "from logpy import *\n",
    "parent=Relation()\n",
    "x=var()\n",
    "y=var()\n",
    "l=[]\n",
    "numOfRelation = int(input(\"How many Parent Child Relation do you want to enter : \"))\n",
    "for a in range(1,numOfRelation+1):\n",
    "    par=input(\"Enter the name of \"+str(a)+\" parent \")\n",
    "    child=input(\"Enter the name of \"+str(a)+\" child \")\n",
    "    l.append((par,child))\n",
    "print(l)\n",
    "for b in range(0,numOfRelation):\n",
    "    facts(parent,l[b])\n",
    "print(run(2,x,parent(x,'bob')))"
   ]
  }
 ],
 "metadata": {
  "kernelspec": {
   "display_name": "Python 3",
   "language": "python",
   "name": "python3"
  },
  "language_info": {
   "codemirror_mode": {
    "name": "ipython",
    "version": 3
   },
   "file_extension": ".py",
   "mimetype": "text/x-python",
   "name": "python",
   "nbconvert_exporter": "python",
   "pygments_lexer": "ipython3",
   "version": "3.7.3"
  }
 },
 "nbformat": 4,
 "nbformat_minor": 2
}
